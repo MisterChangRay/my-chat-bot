{
 "cells": [
  {
   "cell_type": "code",
   "execution_count": 19,
   "metadata": {},
   "outputs": [],
   "source": [
    "import codecs\n",
    "import jieba as jieba\n",
    "import jieba.analyse\n",
    "import re\n",
    "import warnings\n",
    "warnings.filterwarnings(\"ignore\")\n",
    "import pandas as pd\n",
    "import random\n",
    "from sklearn.feature_extraction.text import TfidfVectorizer\n",
    "from sklearn.metrics.pairwise import cosine_similarity"
   ]
  },
  {
   "cell_type": "code",
   "execution_count": null,
   "metadata": {},
   "outputs": [],
   "source": []
  },
  {
   "cell_type": "code",
   "execution_count": 20,
   "metadata": {},
   "outputs": [],
   "source": [
    "response_sents = [];\n",
    "#中文分局\n",
    "def SentsTokenizer4Ch(text):\n",
    "    sentences = re.split('(\\r\\n)',text)\n",
    "    new_sents = []\n",
    "    for i in range(int(len(sentences)/2)):\n",
    "        sent = sentences[2*i] + sentences[2*i+1]\n",
    "        sent = sent.replace('\\r\\n','')\n",
    "        sent = sent.strip()\n",
    "        if(i % 2 == 0):\n",
    "            new_sents.append(sent)\n",
    "        else:\n",
    "            response_sents.append(sent)\n",
    "         \n",
    "    return new_sents\n",
    " \n",
    "    \n",
    "    \n",
    "#删除所有符号,只保留字母、数字和中文\n",
    "def remove_punctuation(line):\n",
    "    #line = str(line)\n",
    "    if line.strip()=='':\n",
    "        return ''\n",
    "    rule = re.compile(u\"[^a-zA-Z0-9\\u4E00-\\u9FA5]\")\n",
    "    line = rule.sub('',line)\n",
    "    return line\n",
    " \n",
    "#中文停用词\n",
    "def stopwordslist(filepath):  \n",
    "    stopwords = [line.strip() for line in open(filepath, 'r', encoding='utf-8').readlines()]  \n",
    "    return stopwords  \n"
   ]
  },
  {
   "cell_type": "code",
   "execution_count": 21,
   "metadata": {},
   "outputs": [
    {
     "data": {
      "text/plain": [
       "['\\ufeff充电宝如何归还？',\n",
       " '能否租借多个充电宝？',\n",
       " '借出的充电宝是坏的怎么办？',\n",
       " '充电宝不能充电怎么办？',\n",
       " '归还充电宝后没有结束订单怎么办？',\n",
       " '扫码付钱后没有弹出充电宝怎么办？',\n",
       " '借出得充电宝不能充电怎么办？',\n",
       " '充电宝TYPE-C头不能充电',\n",
       " '充电宝USB头不能充电',\n",
       " '由于疫情管控,不能及时归还？']"
      ]
     },
     "execution_count": 21,
     "metadata": {},
     "output_type": "execute_result"
    }
   ],
   "source": [
    "\n",
    "\n",
    "myfile = \"./data/qa.txt\"\n",
    "text = codecs.open(myfile, \"r\", \"utf-8\").read()\n",
    "sent_tokens = SentsTokenizer4Ch(text)\n",
    "sent_tokens[:30]"
   ]
  },
  {
   "cell_type": "code",
   "execution_count": 22,
   "metadata": {},
   "outputs": [
    {
     "data": {
      "text/html": [
       "<div>\n",
       "<style scoped>\n",
       "    .dataframe tbody tr th:only-of-type {\n",
       "        vertical-align: middle;\n",
       "    }\n",
       "\n",
       "    .dataframe tbody tr th {\n",
       "        vertical-align: top;\n",
       "    }\n",
       "\n",
       "    .dataframe thead th {\n",
       "        text-align: right;\n",
       "    }\n",
       "</style>\n",
       "<table border=\"1\" class=\"dataframe\">\n",
       "  <thead>\n",
       "    <tr style=\"text-align: right;\">\n",
       "      <th></th>\n",
       "      <th>sent</th>\n",
       "      <th>clean_set</th>\n",
       "      <th>cut_sent</th>\n",
       "    </tr>\n",
       "  </thead>\n",
       "  <tbody>\n",
       "    <tr>\n",
       "      <th>0</th>\n",
       "      <td>﻿充电宝如何归还？</td>\n",
       "      <td>充电宝如何归还</td>\n",
       "      <td>充电宝 归还</td>\n",
       "    </tr>\n",
       "    <tr>\n",
       "      <th>1</th>\n",
       "      <td>能否租借多个充电宝？</td>\n",
       "      <td>能否租借多个充电宝</td>\n",
       "      <td>能否 租借 多个 充电宝</td>\n",
       "    </tr>\n",
       "    <tr>\n",
       "      <th>2</th>\n",
       "      <td>借出的充电宝是坏的怎么办？</td>\n",
       "      <td>借出的充电宝是坏的怎么办</td>\n",
       "      <td>借出 充电宝 坏</td>\n",
       "    </tr>\n",
       "    <tr>\n",
       "      <th>3</th>\n",
       "      <td>充电宝不能充电怎么办？</td>\n",
       "      <td>充电宝不能充电怎么办</td>\n",
       "      <td>充电宝 不能 充电</td>\n",
       "    </tr>\n",
       "    <tr>\n",
       "      <th>4</th>\n",
       "      <td>归还充电宝后没有结束订单怎么办？</td>\n",
       "      <td>归还充电宝后没有结束订单怎么办</td>\n",
       "      <td>归还 充电宝 没有 结束订单</td>\n",
       "    </tr>\n",
       "    <tr>\n",
       "      <th>5</th>\n",
       "      <td>扫码付钱后没有弹出充电宝怎么办？</td>\n",
       "      <td>扫码付钱后没有弹出充电宝怎么办</td>\n",
       "      <td>扫码 付钱 没有 弹出 充电宝</td>\n",
       "    </tr>\n",
       "    <tr>\n",
       "      <th>6</th>\n",
       "      <td>借出得充电宝不能充电怎么办？</td>\n",
       "      <td>借出得充电宝不能充电怎么办</td>\n",
       "      <td>借出 得 充电宝 不能 充电</td>\n",
       "    </tr>\n",
       "    <tr>\n",
       "      <th>7</th>\n",
       "      <td>充电宝TYPE-C头不能充电</td>\n",
       "      <td>充电宝TYPEC头不能充电</td>\n",
       "      <td>充电宝 TYPEC头 不能 充电</td>\n",
       "    </tr>\n",
       "    <tr>\n",
       "      <th>8</th>\n",
       "      <td>充电宝USB头不能充电</td>\n",
       "      <td>充电宝USB头不能充电</td>\n",
       "      <td>充电宝 USB头 不能 充电</td>\n",
       "    </tr>\n",
       "    <tr>\n",
       "      <th>9</th>\n",
       "      <td>由于疫情管控,不能及时归还？</td>\n",
       "      <td>由于疫情管控不能及时归还</td>\n",
       "      <td>由于 疫情 管控 不能 及时 归还</td>\n",
       "    </tr>\n",
       "  </tbody>\n",
       "</table>\n",
       "</div>"
      ],
      "text/plain": [
       "               sent        clean_set           cut_sent\n",
       "0         ﻿充电宝如何归还？          充电宝如何归还             充电宝 归还\n",
       "1        能否租借多个充电宝？        能否租借多个充电宝       能否 租借 多个 充电宝\n",
       "2     借出的充电宝是坏的怎么办？     借出的充电宝是坏的怎么办           借出 充电宝 坏\n",
       "3       充电宝不能充电怎么办？       充电宝不能充电怎么办          充电宝 不能 充电\n",
       "4  归还充电宝后没有结束订单怎么办？  归还充电宝后没有结束订单怎么办     归还 充电宝 没有 结束订单\n",
       "5  扫码付钱后没有弹出充电宝怎么办？  扫码付钱后没有弹出充电宝怎么办    扫码 付钱 没有 弹出 充电宝\n",
       "6    借出得充电宝不能充电怎么办？    借出得充电宝不能充电怎么办     借出 得 充电宝 不能 充电\n",
       "7    充电宝TYPE-C头不能充电    充电宝TYPEC头不能充电   充电宝 TYPEC头 不能 充电\n",
       "8       充电宝USB头不能充电      充电宝USB头不能充电     充电宝 USB头 不能 充电\n",
       "9    由于疫情管控,不能及时归还？     由于疫情管控不能及时归还  由于 疫情 管控 不能 及时 归还"
      ]
     },
     "execution_count": 22,
     "metadata": {},
     "output_type": "execute_result"
    }
   ],
   "source": [
    "#加载自定义词典\n",
    "jieba.load_userdict(\"./data/dict.txt\")\n",
    " \n",
    "#加载停用词\n",
    "stopwords = stopwordslist(\"./data/stop_words.txt\")\n",
    "# jieba.analyse.set_stop_words(\"./ntpl/stop_words.txt\")\n",
    "\n",
    "#删除除字母,数字，汉字以外的所有符号\n",
    "df = pd.DataFrame(sent_tokens, columns=['sent'])\n",
    "df['clean_set']=  df['sent'].apply(remove_punctuation)\n",
    "\n",
    "#分词，并过滤停用词\n",
    "df['cut_sent'] = df['clean_set'].apply(lambda x: \" \".join([w for w in list(jieba.cut(x)) if w not in stopwords]))\n",
    "# df['cut_sent'] = df['clean_set'].apply(lambda x: \" \".join([w for w in list(jieba.cut(x))]))\n",
    "df"
   ]
  },
  {
   "cell_type": "code",
   "execution_count": 23,
   "metadata": {},
   "outputs": [],
   "source": [
    "def response(user_response):\n",
    "    robo_response=''\n",
    "    user_response  = remove_punctuation(user_response)\n",
    "    user_response= \" \".join([w for w in list(jieba.cut(user_response)) if w not in stopwords])\n",
    "    cut_sent = df.cut_sent.values.tolist()\n",
    "    cut_sent.append(user_response)\n",
    "    tfidf = TfidfVectorizer()\n",
    "\n",
    "    tfidf_vec = tfidf.fit_transform(cut_sent)\n",
    "\n",
    "    cos_sim = cosine_similarity(tfidf_vec[-1], tfidf_vec)\n",
    "    idx=cos_sim.argsort()[0][-2]\n",
    "    flat = cos_sim.flatten()\n",
    "    flat.sort()\n",
    "    req_tfidf = flat[-2]\n",
    "\n",
    "    if(req_tfidf==0):\n",
    "        robo_response=robo_response+\"对不起,我不理解您的意思,我还是个小白...!\"\n",
    "        return(robo_response)\n",
    "    else:\n",
    "        #robo_response = robo_response+df.sent.values[idx]\n",
    "        print(robo_response+df.sent.values[idx])\n",
    "        robo_response = response_sents[idx]\n",
    "        return(robo_response)"
   ]
  },
  {
   "cell_type": "code",
   "execution_count": null,
   "metadata": {},
   "outputs": [],
   "source": []
  },
  {
   "cell_type": "code",
   "execution_count": 24,
   "metadata": {},
   "outputs": [],
   "source": [
    "\n",
    "GREETING_INPUTS = (\"你好\", \"hi\", \"有人\", \"在吗\", \"嗨\",\"在不在\",\"有人吗\",'在','有人')\n",
    "GREETING_RESPONSES = [\"你好\",  \"我在\", \"请问,有什么可以帮您的吗?\", \"你好，我在\", \"你好，很高兴见到你！\"]\n",
    "\n",
    "def greeting(sentence):\n",
    "    rule = re.compile(u\"[^a-zA-Z0-9\\u4E00-\\u9FA5]\")\n",
    "    text = rule.sub('',sentence)\n",
    "    if text in GREETING_INPUTS:\n",
    "        return random.choice(GREETING_RESPONSES)\n",
    "    \n",
    "    wordlist =  [w for w in jieba.cut(sentence)]\n",
    "    for word in wordlist:\n",
    "        if word in GREETING_INPUTS:\n",
    "            return random.choice(GREETING_RESPONSES)\n"
   ]
  },
  {
   "cell_type": "code",
   "execution_count": 27,
   "metadata": {},
   "outputs": [
    {
     "data": {
      "text/plain": [
       "'请问,有什么可以帮您的吗?'"
      ]
     },
     "execution_count": 27,
     "metadata": {},
     "output_type": "execute_result"
    }
   ],
   "source": [
    "greeting(\"你好\")"
   ]
  },
  {
   "cell_type": "code",
   "execution_count": 25,
   "metadata": {},
   "outputs": [
    {
     "name": "stdout",
     "output_type": "stream",
     "text": [
      "归还充电宝后没有结束订单怎么办？\n"
     ]
    },
    {
     "data": {
      "text/plain": [
       "'订单将会在您归还充电宝后10分钟内自动结束，如超过10分钟未结束，请联系人工客服。'"
      ]
     },
     "execution_count": 25,
     "metadata": {},
     "output_type": "execute_result"
    }
   ],
   "source": [
    "\n",
    "# 此函数用于返回查询结果\n",
    "response(\"我的订单没有结束\")"
   ]
  },
  {
   "cell_type": "code",
   "execution_count": null,
   "metadata": {},
   "outputs": [],
   "source": []
  },
  {
   "cell_type": "code",
   "execution_count": 133,
   "metadata": {},
   "outputs": [],
   "source": []
  },
  {
   "cell_type": "code",
   "execution_count": null,
   "metadata": {},
   "outputs": [],
   "source": []
  },
  {
   "cell_type": "code",
   "execution_count": null,
   "metadata": {},
   "outputs": [],
   "source": []
  },
  {
   "cell_type": "code",
   "execution_count": null,
   "metadata": {},
   "outputs": [],
   "source": []
  },
  {
   "cell_type": "code",
   "execution_count": null,
   "metadata": {},
   "outputs": [],
   "source": []
  },
  {
   "cell_type": "code",
   "execution_count": null,
   "metadata": {},
   "outputs": [],
   "source": []
  },
  {
   "cell_type": "code",
   "execution_count": null,
   "metadata": {},
   "outputs": [],
   "source": []
  },
  {
   "cell_type": "code",
   "execution_count": 17,
   "metadata": {},
   "outputs": [
    {
     "ename": "NameError",
     "evalue": "name 'python' is not defined",
     "output_type": "error",
     "traceback": [
      "\u001b[1;31m---------------------------------------------------------------------------\u001b[0m",
      "\u001b[1;31mNameError\u001b[0m                                 Traceback (most recent call last)",
      "\u001b[1;32m<ipython-input-17-e150d9f71f83>\u001b[0m in \u001b[0;36m<module>\u001b[1;34m\u001b[0m\n\u001b[1;32m----> 1\u001b[1;33m \u001b[0mpython\u001b[0m\u001b[1;33m\u001b[0m\u001b[1;33m\u001b[0m\u001b[0m\n\u001b[0m",
      "\u001b[1;31mNameError\u001b[0m: name 'python' is not defined"
     ]
    }
   ],
   "source": [
    "python "
   ]
  },
  {
   "cell_type": "code",
   "execution_count": null,
   "metadata": {},
   "outputs": [],
   "source": []
  }
 ],
 "metadata": {
  "kernelspec": {
   "display_name": "Python 3",
   "language": "python",
   "name": "python3"
  },
  "language_info": {
   "codemirror_mode": {
    "name": "ipython",
    "version": 3
   },
   "file_extension": ".py",
   "mimetype": "text/x-python",
   "name": "python",
   "nbconvert_exporter": "python",
   "pygments_lexer": "ipython3",
   "version": "3.7.6"
  }
 },
 "nbformat": 4,
 "nbformat_minor": 4
}
